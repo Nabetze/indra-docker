{
  "nbformat": 4,
  "nbformat_minor": 0,
  "metadata": {
    "colab": {
      "provenance": []
    },
    "kernelspec": {
      "name": "python3",
      "display_name": "Python 3"
    },
    "language_info": {
      "name": "python"
    }
  },
  "cells": [
    {
      "cell_type": "markdown",
      "source": [
        "#Proyecto Final - Pruebas\n",
        "- *Luis Esteban Centeno Untivero*"
      ],
      "metadata": {
        "id": "LMHPHflhRwEc"
      }
    },
    {
      "cell_type": "markdown",
      "source": [
        "## Instalando liberías a utilizar:"
      ],
      "metadata": {
        "id": "LpASpmpBRj68"
      }
    },
    {
      "cell_type": "code",
      "execution_count": 35,
      "metadata": {
        "colab": {
          "base_uri": "https://localhost:8080/"
        },
        "id": "vpWZTG1lS4ck",
        "outputId": "8d0c695f-51ca-46e0-93dc-dd477286cbc4"
      },
      "outputs": [
        {
          "output_type": "stream",
          "name": "stdout",
          "text": [
            "\u001b[?25l   \u001b[90m━━━━━━━━━━━━━━━━━━━━━━━━━━━━━━━━━━━━━━━━\u001b[0m \u001b[32m0.0/46.0 kB\u001b[0m \u001b[31m?\u001b[0m eta \u001b[36m-:--:--\u001b[0m\r\u001b[2K   \u001b[90m━━━━━━━━━━━━━━━━━━━━━━━━━━━━━━━━━━━━━━━━\u001b[0m \u001b[32m46.0/46.0 kB\u001b[0m \u001b[31m2.8 MB/s\u001b[0m eta \u001b[36m0:00:00\u001b[0m\n",
            "\u001b[?25h\u001b[?25l   \u001b[90m━━━━━━━━━━━━━━━━━━━━━━━━━━━━━━━━━━━━━━━━\u001b[0m \u001b[32m0.0/906.3 kB\u001b[0m \u001b[31m?\u001b[0m eta \u001b[36m-:--:--\u001b[0m\r\u001b[2K   \u001b[91m━━━━━━━━━━━━━━━━━━━━━━━━━━━━━━━━━━━━━━━\u001b[0m\u001b[91m╸\u001b[0m \u001b[32m901.1/906.3 kB\u001b[0m \u001b[31m55.2 MB/s\u001b[0m eta \u001b[36m0:00:01\u001b[0m\r\u001b[2K   \u001b[90m━━━━━━━━━━━━━━━━━━━━━━━━━━━━━━━━━━━━━━━━\u001b[0m \u001b[32m906.3/906.3 kB\u001b[0m \u001b[31m27.6 MB/s\u001b[0m eta \u001b[36m0:00:00\u001b[0m\n",
            "\u001b[?25h\u001b[?25l   \u001b[90m━━━━━━━━━━━━━━━━━━━━━━━━━━━━━━━━━━━━━━━━\u001b[0m \u001b[32m0.0/65.0 kB\u001b[0m \u001b[31m?\u001b[0m eta \u001b[36m-:--:--\u001b[0m\r\u001b[2K   \u001b[90m━━━━━━━━━━━━━━━━━━━━━━━━━━━━━━━━━━━━━━━━\u001b[0m \u001b[32m65.0/65.0 kB\u001b[0m \u001b[31m4.9 MB/s\u001b[0m eta \u001b[36m0:00:00\u001b[0m\n",
            "\u001b[?25h"
          ]
        }
      ],
      "source": [
        "%pip install -qU langgraph langchain-openai langchain-core langchain-community langchain-text-splitters langchain-elasticsearch"
      ]
    },
    {
      "cell_type": "markdown",
      "source": [
        "# Creación del RAG:"
      ],
      "metadata": {
        "id": "hXbC9axXSGzj"
      }
    },
    {
      "cell_type": "code",
      "source": [
        "from google.colab import userdata\n",
        "from langchain_openai import ChatOpenAI, OpenAIEmbeddings\n",
        "import os\n",
        "import json\n",
        "\n",
        "\n",
        "os.environ[\"OPENAI_API_KEY\"] = userdata.get('OPENIA_TOKEN')"
      ],
      "metadata": {
        "id": "ohi8Qrl8Z4Aa"
      },
      "execution_count": 2,
      "outputs": []
    },
    {
      "cell_type": "code",
      "source": [
        "embedding = OpenAIEmbeddings(model=\"text-embedding-3-large\")"
      ],
      "metadata": {
        "id": "fcVku9c1aq2L"
      },
      "execution_count": 4,
      "outputs": []
    },
    {
      "cell_type": "code",
      "source": [
        "# Menú de prueba a utilizar:\n",
        "\n",
        "# menu = [\n",
        "#   {\n",
        "#     \"nombre\": \"Hamburguesa Clásica\",\n",
        "#     \"descripcion\": \"Pan artesanal, carne de res, lechuga, tomate, cebolla y aderezo especial.\",\n",
        "#     \"precio\": 8.5,\n",
        "#     \"ingredientes\": [\"carne\", \"pan\", \"lechuga\", \"tomate\", \"cebolla\", \"aderezo\"],\n",
        "#     \"tags\": [\"carne\", \"combo\", \"almuerzo\"],\n",
        "#     \"disponibilidad\": True,\n",
        "#     \"categoria\": \"plato principal\"\n",
        "#   },\n",
        "#   {\n",
        "#     \"nombre\": \"Ensalada Vegana\",\n",
        "#     \"descripcion\": \"Mezcla de hojas verdes, quinoa, garbanzos, tomate cherry, aguacate y vinagreta de limón.\",\n",
        "#     \"precio\": 7.0,\n",
        "#     \"ingredientes\": [\"quinoa\", \"garbanzos\", \"aguacate\", \"lechuga\", \"vinagreta\"],\n",
        "#     \"tags\": [\"vegano\", \"sin gluten\", \"saludable\"],\n",
        "#     \"disponibilidad\": True,\n",
        "#     \"categoria\": \"plato principal\"\n",
        "#   },\n",
        "#   {\n",
        "#     \"nombre\": \"Tacos de Pollo\",\n",
        "#     \"descripcion\": \"Tres tacos con pollo sazonado, cebolla morada, cilantro y salsa verde.\",\n",
        "#     \"precio\": 6.5,\n",
        "#     \"ingredientes\": [\"pollo\", \"tortilla\", \"cebolla\", \"cilantro\", \"salsa\"],\n",
        "#     \"tags\": [\"pollo\", \"picante\"],\n",
        "#     \"disponibilidad\": False,\n",
        "#     \"categoria\": \"plato principal\"\n",
        "#   },\n",
        "#   {\n",
        "#     \"nombre\": \"Pizza Margarita\",\n",
        "#     \"descripcion\": \"Pizza con base de tomate, mozzarella fresca y albahaca.\",\n",
        "#     \"precio\": 9.0,\n",
        "#     \"ingredientes\": [\"queso\", \"tomate\", \"masa\", \"albahaca\"],\n",
        "#     \"tags\": [\"vegetariano\"],\n",
        "#     \"disponibilidad\": True,\n",
        "#     \"categoria\": \"plato principal\"\n",
        "#   },\n",
        "#   {\n",
        "#     \"nombre\": \"Brownie con Helado\",\n",
        "#     \"descripcion\": \"Brownie de chocolate tibio con bola de helado de vainilla.\",\n",
        "#     \"precio\": 4.0,\n",
        "#     \"ingredientes\": [\"chocolate\", \"harina\", \"azúcar\", \"helado\"],\n",
        "#     \"tags\": [\"postre\", \"dulce\"],\n",
        "#     \"disponibilidad\": True,\n",
        "#     \"categoria\": \"postre\"\n",
        "#   },\n",
        "#   {\n",
        "#     \"nombre\": \"Limonada Natural\",\n",
        "#     \"descripcion\": \"Bebida refrescante con jugo de limón, menta y hielo.\",\n",
        "#     \"precio\": 2.5,\n",
        "#     \"ingredientes\": [\"limón\", \"agua\", \"menta\", \"azúcar\"],\n",
        "#     \"tags\": [\"bebida\", \"natural\"],\n",
        "#     \"disponibilidad\": True,\n",
        "#     \"categoria\": \"bebida\"\n",
        "#   },\n",
        "#   {\n",
        "#     \"nombre\": \"Combo Familiar\",\n",
        "#     \"descripcion\": \"2 hamburguesas, 2 refrescos, papas grandes y 1 postre.\",\n",
        "#     \"precio\": 18.0,\n",
        "#     \"ingredientes\": [\"carne\", \"pan\", \"papas\", \"refresco\", \"postre\"],\n",
        "#     \"tags\": [\"combo\", \"familiar\", \"ahorro\"],\n",
        "#     \"disponibilidad\": True,\n",
        "#     \"categoria\": \"combo\",\n",
        "#     \"cupon\": \"FAMILIA20\"\n",
        "#   }\n",
        "# ]\n"
      ],
      "metadata": {
        "id": "W04KHWSQp7lE"
      },
      "execution_count": 7,
      "outputs": []
    },
    {
      "cell_type": "code",
      "source": [
        "# Lo guardamos como archivo\n",
        "\n",
        "with open(\"menu.json\", \"w\", encoding=\"utf-8\") as f:\n",
        "    json.dump(menu, f, ensure_ascii=False, indent=4)"
      ],
      "metadata": {
        "id": "m1tE_AswqO7D"
      },
      "execution_count": 9,
      "outputs": []
    },
    {
      "cell_type": "code",
      "source": [
        "from langchain.embeddings import OpenAIEmbeddings\n",
        "from langchain_core.vectorstores import InMemoryVectorStore\n",
        "from langchain_text_splitters import RecursiveCharacterTextSplitter\n",
        "from langchain.schema import Document\n",
        "\n",
        "# Cargar el archivo JSON\n",
        "with open(\"menu.json\", \"r\", encoding=\"utf-8\") as f:\n",
        "    menu_data = json.load(f)\n",
        "\n",
        "# Convertir cada plato en documento con metadata\n",
        "docs = []\n",
        "\n",
        "for item in menu_data:\n",
        "    contenido = f\"{item['nombre']}: {item['descripcion']} Precio: ${item['precio']}\"\n",
        "    doc = Document(\n",
        "        page_content=contenido,\n",
        "        metadata={\n",
        "            \"nombre\": item[\"nombre\"],\n",
        "            \"precio\": item[\"precio\"],\n",
        "            \"categoria\": item[\"categoria\"],\n",
        "            \"tags\": item.get(\"tags\", []),\n",
        "            \"disponibilidad\": item.get(\"disponibilidad\", True),\n",
        "            \"cupon\": item.get(\"cupon\", None)\n",
        "        }\n",
        "    )\n",
        "    docs.append(doc)"
      ],
      "metadata": {
        "id": "Iggm_YuXa0le"
      },
      "execution_count": 19,
      "outputs": []
    },
    {
      "cell_type": "code",
      "source": [
        "docs"
      ],
      "metadata": {
        "colab": {
          "base_uri": "https://localhost:8080/"
        },
        "id": "PT6WQHWHqbfy",
        "outputId": "7d270dab-741e-4e04-d433-9afd0367ab49"
      },
      "execution_count": 20,
      "outputs": [
        {
          "output_type": "execute_result",
          "data": {
            "text/plain": [
              "[Document(metadata={'nombre': 'Hamburguesa Clásica', 'precio': 8.5, 'categoria': 'plato principal', 'tags': ['carne', 'combo', 'almuerzo'], 'disponibilidad': True, 'cupon': None}, page_content='Hamburguesa Clásica: Pan artesanal, carne de res, lechuga, tomate, cebolla y aderezo especial. Precio: $8.5'),\n",
              " Document(metadata={'nombre': 'Ensalada Vegana', 'precio': 7.0, 'categoria': 'plato principal', 'tags': ['vegano', 'sin gluten', 'saludable'], 'disponibilidad': True, 'cupon': None}, page_content='Ensalada Vegana: Mezcla de hojas verdes, quinoa, garbanzos, tomate cherry, aguacate y vinagreta de limón. Precio: $7.0'),\n",
              " Document(metadata={'nombre': 'Tacos de Pollo', 'precio': 6.5, 'categoria': 'plato principal', 'tags': ['pollo', 'picante'], 'disponibilidad': False, 'cupon': None}, page_content='Tacos de Pollo: Tres tacos con pollo sazonado, cebolla morada, cilantro y salsa verde. Precio: $6.5'),\n",
              " Document(metadata={'nombre': 'Pizza Margarita', 'precio': 9.0, 'categoria': 'plato principal', 'tags': ['vegetariano'], 'disponibilidad': True, 'cupon': None}, page_content='Pizza Margarita: Pizza con base de tomate, mozzarella fresca y albahaca. Precio: $9.0'),\n",
              " Document(metadata={'nombre': 'Brownie con Helado', 'precio': 4.0, 'categoria': 'postre', 'tags': ['postre', 'dulce'], 'disponibilidad': True, 'cupon': None}, page_content='Brownie con Helado: Brownie de chocolate tibio con bola de helado de vainilla. Precio: $4.0'),\n",
              " Document(metadata={'nombre': 'Limonada Natural', 'precio': 2.5, 'categoria': 'bebida', 'tags': ['bebida', 'natural'], 'disponibilidad': True, 'cupon': None}, page_content='Limonada Natural: Bebida refrescante con jugo de limón, menta y hielo. Precio: $2.5'),\n",
              " Document(metadata={'nombre': 'Combo Familiar', 'precio': 18.0, 'categoria': 'combo', 'tags': ['combo', 'familiar', 'ahorro'], 'disponibilidad': True, 'cupon': 'FAMILIA20'}, page_content='Combo Familiar: 2 hamburguesas, 2 refrescos, papas grandes y 1 postre. Precio: $18.0')]"
            ]
          },
          "metadata": {},
          "execution_count": 20
        }
      ]
    },
    {
      "cell_type": "code",
      "source": [
        "# Primero hacemos una prueba con memoria local:\n",
        "\n",
        "vectore_store = InMemoryVectorStore(embedding)\n",
        "_ = vectore_store.add_documents(docs)"
      ],
      "metadata": {
        "id": "E8YwEJUysqUZ"
      },
      "execution_count": 23,
      "outputs": []
    },
    {
      "cell_type": "code",
      "source": [
        "retriever_chain = vectore_store.as_retriever()"
      ],
      "metadata": {
        "id": "ERkUvUF6bPzo"
      },
      "execution_count": 24,
      "outputs": []
    },
    {
      "cell_type": "code",
      "source": [
        "# Pregunta de prueba:\n",
        "\n",
        "query= \"Cual es el precio de la hamburgeua clásica?\"\n",
        "respuesta = retriever_chain.invoke(query)\n",
        "respuesta"
      ],
      "metadata": {
        "colab": {
          "base_uri": "https://localhost:8080/"
        },
        "id": "hkJrqY-Sb03g",
        "outputId": "25af6c21-61cf-43eb-8a5f-968a2da76fff"
      },
      "execution_count": 25,
      "outputs": [
        {
          "output_type": "execute_result",
          "data": {
            "text/plain": [
              "[Document(id='20894b9b-152d-4b88-a94a-ff54e0a98b47', metadata={'nombre': 'Hamburguesa Clásica', 'precio': 8.5, 'categoria': 'plato principal', 'tags': ['carne', 'combo', 'almuerzo'], 'disponibilidad': True, 'cupon': None}, page_content='Hamburguesa Clásica: Pan artesanal, carne de res, lechuga, tomate, cebolla y aderezo especial. Precio: $8.5'),\n",
              " Document(id='844c6c61-2fa8-4f81-99f7-51d299e597a5', metadata={'nombre': 'Combo Familiar', 'precio': 18.0, 'categoria': 'combo', 'tags': ['combo', 'familiar', 'ahorro'], 'disponibilidad': True, 'cupon': 'FAMILIA20'}, page_content='Combo Familiar: 2 hamburguesas, 2 refrescos, papas grandes y 1 postre. Precio: $18.0'),\n",
              " Document(id='990e2b26-71a8-4731-a772-422ad65dbbb2', metadata={'nombre': 'Pizza Margarita', 'precio': 9.0, 'categoria': 'plato principal', 'tags': ['vegetariano'], 'disponibilidad': True, 'cupon': None}, page_content='Pizza Margarita: Pizza con base de tomate, mozzarella fresca y albahaca. Precio: $9.0'),\n",
              " Document(id='74a2a55d-74f0-4b0c-9058-72e93ef84a0f', metadata={'nombre': 'Brownie con Helado', 'precio': 4.0, 'categoria': 'postre', 'tags': ['postre', 'dulce'], 'disponibilidad': True, 'cupon': None}, page_content='Brownie con Helado: Brownie de chocolate tibio con bola de helado de vainilla. Precio: $4.0')]"
            ]
          },
          "metadata": {},
          "execution_count": 25
        }
      ]
    },
    {
      "cell_type": "code",
      "source": [
        "# Convertimos el RAG como tool:\n",
        "\n",
        "tool_menu = retriever_chain.as_tool(\n",
        "    name =\"datos_menu\",\n",
        "    description=\"Herramienta que tiene la información detallada (nombre, descripcion, precio, ingredientes, disponibilidad y categoria) de todos los productosdel menú\"\n",
        ")"
      ],
      "metadata": {
        "id": "9ZSl-x5rdfwF",
        "colab": {
          "base_uri": "https://localhost:8080/"
        },
        "outputId": "ab1720d3-b217-4064-be4a-8c802191bf8d"
      },
      "execution_count": 26,
      "outputs": [
        {
          "output_type": "stream",
          "name": "stderr",
          "text": [
            "/tmp/ipython-input-26-2679142047.py:1: LangChainBetaWarning: This API is in beta and may change in the future.\n",
            "  tool_menu = retriever_chain.as_tool(\n"
          ]
        }
      ]
    },
    {
      "cell_type": "code",
      "source": [
        "from langgraph.prebuilt import create_react_agent\n",
        "from langchain_core.messages import HumanMessage\n",
        "\n",
        "# Pruena de concepto:\n",
        "\n",
        "toolkit=[tool_menu]\n",
        "\n",
        "model = ChatOpenAI(model=\"gpt-4.1-2025-04-14\")\n",
        "agent = create_react_agent(model, toolkit)\n",
        "\n",
        "# Invocamos al agente\n",
        "config = {\"configurable\": {\"thread_id\": \"000\"}}\n",
        "response = agent.invoke({\"messages\": [HumanMessage(content=\"Que comidas saludables hay en el menú?\")]}, config=config)\n",
        "response['messages'][-1].pretty_print()"
      ],
      "metadata": {
        "colab": {
          "base_uri": "https://localhost:8080/"
        },
        "id": "lvhpIrnveH9U",
        "outputId": "c8dd4b26-1390-4c64-c5c5-79f537b40a2e"
      },
      "execution_count": 30,
      "outputs": [
        {
          "output_type": "stream",
          "name": "stdout",
          "text": [
            "==================================\u001b[1m Ai Message \u001b[0m==================================\n",
            "\n",
            "En el menú hay estas opciones saludables:\n",
            "\n",
            "1. Ensalada Vegana: Mezcla de hojas verdes, quinoa, garbanzos, tomate cherry, aguacate y vinagreta de limón. Precio: $7.0\n",
            "\n",
            "También puedes considerar la Limonada Natural como una bebida fresca y natural: Jugo de limón, menta y hielo. Precio: $2.5\n",
            "\n",
            "¿Te gustaría saber más detalles sobre alguna de estas opciones o ver alternativas?\n"
          ]
        }
      ]
    },
    {
      "cell_type": "markdown",
      "source": [
        "## Pasamos el RAG a ElactiSearch"
      ],
      "metadata": {
        "id": "exUtUNJt0JoJ"
      }
    },
    {
      "cell_type": "code",
      "source": [
        "from langchain.vectorstores import ElasticsearchStore"
      ],
      "metadata": {
        "id": "i8PhYQL60Zvh"
      },
      "execution_count": 36,
      "outputs": []
    },
    {
      "cell_type": "code",
      "source": [
        "# Definimos nuestro entorno:\n",
        "db = ElasticsearchStore.from_documents(\n",
        "    docs,\n",
        "    embedding,\n",
        "    es_url=\"\",\n",
        "    es_user=\"elastic\",\n",
        "    es_password=\"\",\n",
        "    index_name=\"menu-data\",\n",
        ")"
      ],
      "metadata": {
        "id": "axfpKH6F0JNB"
      },
      "execution_count": 39,
      "outputs": []
    },
    {
      "cell_type": "markdown",
      "source": [
        "Leemos los datos del Elastic para comprobar la funcionalidad:"
      ],
      "metadata": {
        "id": "4X-33euY1xw4"
      }
    },
    {
      "cell_type": "code",
      "source": [
        "db_query= ElasticsearchStore(\n",
        "    es_url=\"\",\n",
        "    es_user=\"elastic\",\n",
        "    es_password= \"\",\n",
        "    index_name= \"menu-data\",\n",
        "    embedding=embedding)\n",
        "\n",
        "# Transformamos nuestro RAG como tool:\n",
        "retriever = db_query.as_retriever()\n",
        "\n",
        "tool_rag =retriever.as_tool(\n",
        "    name =\"datos_menu\",\n",
        "    description=\"Herramienta que tiene la información detallada (nombre, descripcion, precio, ingredientes, disponibilidad y categoria) de todos los productosdel menú\"\n",
        ")"
      ],
      "metadata": {
        "id": "UMRlRzd81z7X"
      },
      "execution_count": 55,
      "outputs": []
    },
    {
      "cell_type": "code",
      "source": [
        "  #inicializamos el agente\n",
        "  toolkit = [tool_rag]\n",
        "  agent_executor = create_react_agent(model, toolkit)\n",
        "\n",
        "  config = {\"configurable\": {\"thread_id\": \"mc0001\"}} ## el thread_id es el identificador de memoria\n",
        "  for step in agent_executor.stream(\n",
        "      {\"messages\": [HumanMessage(content=\"Que platos están disponibles ahora?\")]},\n",
        "      config,\n",
        "      stream_mode=\"values\",\n",
        "  ):\n",
        "    step[\"messages\"][-1].pretty_print()"
      ],
      "metadata": {
        "colab": {
          "base_uri": "https://localhost:8080/"
        },
        "id": "b_0ldPZE2nBQ",
        "outputId": "1fabe045-4434-4769-8bf8-0a0b4dfcd16f"
      },
      "execution_count": 44,
      "outputs": [
        {
          "output_type": "stream",
          "name": "stdout",
          "text": [
            "================================\u001b[1m Human Message \u001b[0m=================================\n",
            "\n",
            "Que platos están disponibles ahora?\n",
            "==================================\u001b[1m Ai Message \u001b[0m==================================\n",
            "Tool Calls:\n",
            "  datos_menu (call_eLa0q1jI6MX1nX6e0t0q5L11)\n",
            " Call ID: call_eLa0q1jI6MX1nX6e0t0q5L11\n",
            "  Args:\n",
            "    __arg1: disponible\n",
            "=================================\u001b[1m Tool Message \u001b[0m=================================\n",
            "Name: datos_menu\n",
            "\n",
            "[Document(metadata={'nombre': 'Ensalada Vegana', 'precio': 7.0, 'categoria': 'plato principal', 'tags': ['vegano', 'sin gluten', 'saludable'], 'disponibilidad': True, 'cupon': None}, page_content='Ensalada Vegana: Mezcla de hojas verdes, quinoa, garbanzos, tomate cherry, aguacate y vinagreta de limón. Precio: $7.0'), Document(metadata={'nombre': 'Limonada Natural', 'precio': 2.5, 'categoria': 'bebida', 'tags': ['bebida', 'natural'], 'disponibilidad': True, 'cupon': None}, page_content='Limonada Natural: Bebida refrescante con jugo de limón, menta y hielo. Precio: $2.5'), Document(metadata={'nombre': 'Combo Familiar', 'precio': 18.0, 'categoria': 'combo', 'tags': ['combo', 'familiar', 'ahorro'], 'disponibilidad': True, 'cupon': 'FAMILIA20'}, page_content='Combo Familiar: 2 hamburguesas, 2 refrescos, papas grandes y 1 postre. Precio: $18.0'), Document(metadata={'nombre': 'Brownie con Helado', 'precio': 4.0, 'categoria': 'postre', 'tags': ['postre', 'dulce'], 'disponibilidad': True, 'cupon': None}, page_content='Brownie con Helado: Brownie de chocolate tibio con bola de helado de vainilla. Precio: $4.0')]\n",
            "==================================\u001b[1m Ai Message \u001b[0m==================================\n",
            "\n",
            "Actualmente, los siguientes platos y productos están disponibles:\n",
            "\n",
            "1. Ensalada Vegana: Mezcla de hojas verdes, quinoa, garbanzos, tomate cherry, aguacate y vinagreta de limón. Precio: $7.0\n",
            "2. Brownie con Helado: Brownie de chocolate tibio con bola de helado de vainilla. Precio: $4.0\n",
            "3. Combo Familiar: 2 hamburguesas, 2 refrescos, papas grandes y 1 postre. Precio: $18.0\n",
            "4. Limonada Natural: Bebida refrescante con jugo de limón, menta y hielo. Precio: $2.5\n",
            "\n",
            "¿Te gustaría información más detallada o saber si hay opciones específicas (como vegetarianas, sin gluten, etc.)?\n"
          ]
        }
      ]
    },
    {
      "cell_type": "markdown",
      "source": [
        "# Creación  y prueba de los tools:"
      ],
      "metadata": {
        "id": "H0OCaQGRS94a"
      }
    },
    {
      "cell_type": "markdown",
      "source": [
        "Tool - Stock:"
      ],
      "metadata": {
        "id": "3imBDo1U7Htk"
      }
    },
    {
      "cell_type": "code",
      "source": [
        "stock_actual = {\n",
        "    \"Hamburguesa Clásica\": 4,\n",
        "    \"Tacos al Pastor\": 0,\n",
        "    \"Ensalada Vegana\": 10,\n",
        "    \"Pizza Margarita\": 2,\n",
        "    \"Smoothie de Frutas\": 0,\n",
        "}"
      ],
      "metadata": {
        "id": "iemS8zxV7JZC"
      },
      "execution_count": 45,
      "outputs": []
    },
    {
      "cell_type": "code",
      "source": [
        "from langchain.agents import tool\n",
        "\n",
        "@tool\n",
        "def verificar_stock(nombre_plato: str) -> str:\n",
        "    \"\"\"\n",
        "    Verifica la si un plato está disponible en el menú y la cantidad disponible del plato.\n",
        "    \"\"\"\n",
        "    nombre_plato = nombre_plato.strip()\n",
        "    if nombre_plato in stock_actual:\n",
        "        cantidad = stock_actual[nombre_plato]\n",
        "        if cantidad > 0:\n",
        "            return f\"✅ El plato '{nombre_plato}' está disponible. Quedan {cantidad} unidades.\"\n",
        "        else:\n",
        "            return f\"❌ Lo siento, el plato '{nombre_plato}' no está disponible actualmente.\"\n",
        "    else:\n",
        "        return f\"🤔 No encontré el plato '{nombre_plato}' en el inventario.\"\n"
      ],
      "metadata": {
        "id": "FKbrnvCJ8WD7"
      },
      "execution_count": 46,
      "outputs": []
    },
    {
      "cell_type": "code",
      "source": [
        "  #inicializamos el agente\n",
        "  toolkit = [tool_rag, verificar_stock]\n",
        "  agent_executor = create_react_agent(model, toolkit)\n",
        "\n",
        "  config = {\"configurable\": {\"thread_id\": \"mc0001\"}} ## el thread_id es el identificador de memoria\n",
        "  for step in agent_executor.stream(\n",
        "      {\"messages\": [HumanMessage(content=\"Cuantos Tacos al Pastor te quedan?\")]},\n",
        "      config,\n",
        "      stream_mode=\"values\",\n",
        "  ):\n",
        "    step[\"messages\"][-1].pretty_print()"
      ],
      "metadata": {
        "colab": {
          "base_uri": "https://localhost:8080/"
        },
        "id": "pWBOihgF8n3T",
        "outputId": "6c200665-65b7-4b84-92b8-2f46bd28133a"
      },
      "execution_count": 52,
      "outputs": [
        {
          "output_type": "stream",
          "name": "stdout",
          "text": [
            "================================\u001b[1m Human Message \u001b[0m=================================\n",
            "\n",
            "Cuantos Tacos al Pastor te quedan?\n",
            "==================================\u001b[1m Ai Message \u001b[0m==================================\n",
            "Tool Calls:\n",
            "  verificar_stock (call_vQ0N0y81UHo6AzBRsz9TlXec)\n",
            " Call ID: call_vQ0N0y81UHo6AzBRsz9TlXec\n",
            "  Args:\n",
            "    nombre_plato: Tacos al Pastor\n",
            "=================================\u001b[1m Tool Message \u001b[0m=================================\n",
            "Name: verificar_stock\n",
            "\n",
            "❌ Lo siento, el plato 'Tacos al Pastor' no está disponible actualmente.\n",
            "==================================\u001b[1m Ai Message \u001b[0m==================================\n",
            "\n",
            "Actualmente, los Tacos al Pastor no están disponibles en el menú. ¿Te gustaría conocer otras opciones similares?\n"
          ]
        }
      ]
    },
    {
      "cell_type": "markdown",
      "source": [
        "Tool - Recomendación"
      ],
      "metadata": {
        "id": "5nA2Q82uTIaq"
      }
    },
    {
      "cell_type": "code",
      "source": [
        "@tool\n",
        "def recomendar_similar(plato_input: str) -> str:\n",
        "    \"\"\"\n",
        "    Recomienda platos similares al que el usuario menciona.\n",
        "    \"\"\"\n",
        "    retriever = db_query.as_retriever(search_type=\"similarity\", search_kwargs={\"k\": 3})\n",
        "    resultados = retriever.get_relevant_documents(plato_input)\n",
        "\n",
        "    if not resultados:\n",
        "        return \"No encontré platos similares 😕\"\n",
        "\n",
        "    recomendaciones = [doc.metadata['nombre'] for doc in resultados]\n",
        "    return f\"Basado en lo que mencionaste, podrías probar: {', '.join(recomendaciones)}\"\n"
      ],
      "metadata": {
        "id": "tB2x0_EO9d1h"
      },
      "execution_count": 58,
      "outputs": []
    },
    {
      "cell_type": "code",
      "source": [
        "  #inicializamos el agente\n",
        "  toolkit = [tool_rag, verificar_stock, recomendar_similar]\n",
        "  agent_executor = create_react_agent(model, toolkit)\n",
        "\n",
        "  config = {\"configurable\": {\"thread_id\": \"mc0001\"}} ## el thread_id es el identificador de memoria\n",
        "  for step in agent_executor.stream(\n",
        "      {\"messages\": [HumanMessage(content=\"No quiero el combo familiar porque es mucho para mi, que otra opción del menú me recomiendas?\")]},\n",
        "      config,\n",
        "      stream_mode=\"values\",\n",
        "  ):\n",
        "    step[\"messages\"][-1].pretty_print()"
      ],
      "metadata": {
        "colab": {
          "base_uri": "https://localhost:8080/"
        },
        "id": "zZzWXCqD907l",
        "outputId": "5b1c5b77-62fc-48b2-f384-4a19d44b3629"
      },
      "execution_count": 59,
      "outputs": [
        {
          "output_type": "stream",
          "name": "stdout",
          "text": [
            "================================\u001b[1m Human Message \u001b[0m=================================\n",
            "\n",
            "No quiero el combo familiar porque es mucho para mi, que otra opción del menú me recomiendas?\n",
            "==================================\u001b[1m Ai Message \u001b[0m==================================\n",
            "Tool Calls:\n",
            "  recomendar_similar (call_IrArizSUAOhIcU3Lzq2Tc2yj)\n",
            " Call ID: call_IrArizSUAOhIcU3Lzq2Tc2yj\n",
            "  Args:\n",
            "    plato_input: combo familiar\n"
          ]
        },
        {
          "output_type": "stream",
          "name": "stderr",
          "text": [
            "/tmp/ipython-input-58-253156759.py:7: LangChainDeprecationWarning: The method `BaseRetriever.get_relevant_documents` was deprecated in langchain-core 0.1.46 and will be removed in 1.0. Use :meth:`~invoke` instead.\n",
            "  resultados = retriever.get_relevant_documents(plato_input)\n"
          ]
        },
        {
          "output_type": "stream",
          "name": "stdout",
          "text": [
            "=================================\u001b[1m Tool Message \u001b[0m=================================\n",
            "Name: recomendar_similar\n",
            "\n",
            "Basado en lo que mencionaste, podrías probar: Combo Familiar, Ensalada Vegana, Hamburguesa Clásica\n",
            "==================================\u001b[1m Ai Message \u001b[0m==================================\n",
            "Tool Calls:\n",
            "  datos_menu (call_GZveuBbC4QtTSZZqrMFyEDfD)\n",
            " Call ID: call_GZveuBbC4QtTSZZqrMFyEDfD\n",
            "  Args:\n",
            "    __arg1: Ensalada Vegana\n",
            "  datos_menu (call_we31Zx4TnxsFaJyAzDw4ZnkY)\n",
            " Call ID: call_we31Zx4TnxsFaJyAzDw4ZnkY\n",
            "  Args:\n",
            "    __arg1: Hamburguesa Clásica\n",
            "=================================\u001b[1m Tool Message \u001b[0m=================================\n",
            "Name: datos_menu\n",
            "\n",
            "[Document(metadata={'nombre': 'Hamburguesa Clásica', 'precio': 8.5, 'categoria': 'plato principal', 'tags': ['carne', 'combo', 'almuerzo'], 'disponibilidad': True, 'cupon': None}, page_content='Hamburguesa Clásica: Pan artesanal, carne de res, lechuga, tomate, cebolla y aderezo especial. Precio: $8.5'), Document(metadata={'nombre': 'Combo Familiar', 'precio': 18.0, 'categoria': 'combo', 'tags': ['combo', 'familiar', 'ahorro'], 'disponibilidad': True, 'cupon': 'FAMILIA20'}, page_content='Combo Familiar: 2 hamburguesas, 2 refrescos, papas grandes y 1 postre. Precio: $18.0'), Document(metadata={'nombre': 'Pizza Margarita', 'precio': 9.0, 'categoria': 'plato principal', 'tags': ['vegetariano'], 'disponibilidad': True, 'cupon': None}, page_content='Pizza Margarita: Pizza con base de tomate, mozzarella fresca y albahaca. Precio: $9.0'), Document(metadata={'nombre': 'Ensalada Vegana', 'precio': 7.0, 'categoria': 'plato principal', 'tags': ['vegano', 'sin gluten', 'saludable'], 'disponibilidad': True, 'cupon': None}, page_content='Ensalada Vegana: Mezcla de hojas verdes, quinoa, garbanzos, tomate cherry, aguacate y vinagreta de limón. Precio: $7.0')]\n",
            "==================================\u001b[1m Ai Message \u001b[0m==================================\n",
            "\n",
            "Si el combo familiar es demasiado para ti, te recomiendo estas dos opciones del menú:\n",
            "\n",
            "1. Ensalada Vegana: Mezcla de hojas verdes, quinoa, garbanzos, tomate cherry, aguacate y vinagreta de limón. Es una opción saludable, vegana y sin gluten. Precio: $7.0\n",
            "\n",
            "2. Hamburguesa Clásica: Pan artesanal, carne de res, lechuga, tomate, cebolla y aderezo especial. Es una opción más tradicional y también está disponible como plato individual. Precio: $8.5\n",
            "\n",
            "¿Te gustaría saber más detalles de alguna de estas opciones o ver alguna otra recomendación?\n"
          ]
        }
      ]
    },
    {
      "cell_type": "code",
      "source": [
        "  #inicializamos el agente\n",
        "  toolkit = [tool_rag, verificar_stock, recomendar_similar]\n",
        "  agent_executor = create_react_agent(model, toolkit)\n",
        "\n",
        "  config = {\"configurable\": {\"thread_id\": \"mc0001\"}} ## el thread_id es el identificador de memoria\n",
        "  for step in agent_executor.stream(\n",
        "      {\"messages\": [HumanMessage(content=\"Solo tengo 7$ que puedo comprar?\")]},\n",
        "      config,\n",
        "      stream_mode=\"values\",\n",
        "  ):\n",
        "    step[\"messages\"][-1].pretty_print()"
      ],
      "metadata": {
        "colab": {
          "base_uri": "https://localhost:8080/"
        },
        "id": "3VxVne58-1aH",
        "outputId": "77a1a01b-4aea-4de3-90fe-514bfbeb7921"
      },
      "execution_count": 61,
      "outputs": [
        {
          "output_type": "stream",
          "name": "stdout",
          "text": [
            "================================\u001b[1m Human Message \u001b[0m=================================\n",
            "\n",
            "Solo tengo 7$ que puedo comprar?\n",
            "==================================\u001b[1m Ai Message \u001b[0m==================================\n",
            "Tool Calls:\n",
            "  datos_menu (call_g49mPGye4p4tcSsSOsRFv45S)\n",
            " Call ID: call_g49mPGye4p4tcSsSOsRFv45S\n",
            "  Args:\n",
            "    __arg1: todo\n",
            "=================================\u001b[1m Tool Message \u001b[0m=================================\n",
            "Name: datos_menu\n",
            "\n",
            "[Document(metadata={'nombre': 'Pizza Margarita', 'precio': 9.0, 'categoria': 'plato principal', 'tags': ['vegetariano'], 'disponibilidad': True, 'cupon': None}, page_content='Pizza Margarita: Pizza con base de tomate, mozzarella fresca y albahaca. Precio: $9.0'), Document(metadata={'nombre': 'Combo Familiar', 'precio': 18.0, 'categoria': 'combo', 'tags': ['combo', 'familiar', 'ahorro'], 'disponibilidad': True, 'cupon': 'FAMILIA20'}, page_content='Combo Familiar: 2 hamburguesas, 2 refrescos, papas grandes y 1 postre. Precio: $18.0'), Document(metadata={'nombre': 'Tacos de Pollo', 'precio': 6.5, 'categoria': 'plato principal', 'tags': ['pollo', 'picante'], 'disponibilidad': False, 'cupon': None}, page_content='Tacos de Pollo: Tres tacos con pollo sazonado, cebolla morada, cilantro y salsa verde. Precio: $6.5'), Document(metadata={'nombre': 'Ensalada Vegana', 'precio': 7.0, 'categoria': 'plato principal', 'tags': ['vegano', 'sin gluten', 'saludable'], 'disponibilidad': True, 'cupon': None}, page_content='Ensalada Vegana: Mezcla de hojas verdes, quinoa, garbanzos, tomate cherry, aguacate y vinagreta de limón. Precio: $7.0')]\n",
            "==================================\u001b[1m Ai Message \u001b[0m==================================\n",
            "\n",
            "Con 7 dólares puedes elegir entre:\n",
            "\n",
            "1. Ensalada Vegana (precio: $7.0): mezcla de hojas verdes, quinoa, garbanzos, tomate cherry, aguacate y vinagreta de limón.\n",
            "2. Tacos de Pollo (precio: $6.5): tres tacos con pollo, cebolla morada, cilantro y salsa verde. (Sin embargo, actualmente no está disponible)\n",
            "\n",
            "Resumen: La opción disponible para ti ahora mismo es la Ensalada Vegana por exactamente $7. ¿Te gustaría pedirla, o deseas otras recomendaciones?\n"
          ]
        }
      ]
    },
    {
      "cell_type": "markdown",
      "source": [
        "Tool - Cupones:"
      ],
      "metadata": {
        "id": "CU12-iJ3_ZPm"
      }
    },
    {
      "cell_type": "code",
      "source": [
        "cupones_validos = {\n",
        "    \"FAMILIA20\": 0.20,\n",
        "    \"BEBIDA10\": 0.10,\n",
        "    \"VEGANO15\": 0.15,\n",
        "}\n",
        "\n",
        "@tool\n",
        "def aplicar_cupon(nombre_cupon: str, total: float) -> str:\n",
        "    \"\"\"\n",
        "    Aplica un cupón de descuento al total si es válido.\n",
        "    \"\"\"\n",
        "    nombre_cupon = nombre_cupon.strip().upper()\n",
        "    if nombre_cupon in cupones_validos:\n",
        "        descuento = cupones_validos[nombre_cupon]\n",
        "        nuevo_total = round(total * (1 - descuento), 2)\n",
        "        return f\"✅ Cupón aplicado. Descuento del {int(descuento*100)}%. Total final: ${nuevo_total}\"\n",
        "    else:\n",
        "        return f\"❌ El cupón '{nombre_cupon}' no es válido.\"\n"
      ],
      "metadata": {
        "id": "cpFTAOAg_a7N"
      },
      "execution_count": 62,
      "outputs": []
    },
    {
      "cell_type": "code",
      "source": [
        "  #inicializamos el agente\n",
        "  toolkit = [tool_rag, verificar_stock, recomendar_similar, aplicar_cupon]\n",
        "  agent_executor = create_react_agent(model, toolkit)\n",
        "\n",
        "  config = {\"configurable\": {\"thread_id\": \"mc0001\"}} ## el thread_id es el identificador de memoria\n",
        "  for step in agent_executor.stream(\n",
        "      {\"messages\": [HumanMessage(content=\"Quiero comprar un Combo Familiar y una Hamburgueas Cláica y tengo un cupon: BEBIDA10, cuanto me saldría todo?\")]},\n",
        "      config,\n",
        "      stream_mode=\"values\",\n",
        "  ):\n",
        "    step[\"messages\"][-1].pretty_print()"
      ],
      "metadata": {
        "colab": {
          "base_uri": "https://localhost:8080/"
        },
        "id": "VTKT9P-A_jB6",
        "outputId": "142dd6bc-c5c0-41aa-c19e-10c553389ba9"
      },
      "execution_count": 65,
      "outputs": [
        {
          "output_type": "stream",
          "name": "stdout",
          "text": [
            "================================\u001b[1m Human Message \u001b[0m=================================\n",
            "\n",
            "Quiero comprar un Combo Familiar y una Hamburgueas Cláica y tengo un cupon: BEBIDA10, cuanto me saldría todo?\n",
            "==================================\u001b[1m Ai Message \u001b[0m==================================\n",
            "Tool Calls:\n",
            "  datos_menu (call_mjbFuWCT45if7In2OYA4YI96)\n",
            " Call ID: call_mjbFuWCT45if7In2OYA4YI96\n",
            "  Args:\n",
            "    __arg1: Combo Familiar\n",
            "  datos_menu (call_scsi8mvo73Q0TSFMZJmUdxm1)\n",
            " Call ID: call_scsi8mvo73Q0TSFMZJmUdxm1\n",
            "  Args:\n",
            "    __arg1: Hamburguesa Clásica\n",
            "=================================\u001b[1m Tool Message \u001b[0m=================================\n",
            "Name: datos_menu\n",
            "\n",
            "[Document(metadata={'nombre': 'Hamburguesa Clásica', 'precio': 8.5, 'categoria': 'plato principal', 'tags': ['carne', 'combo', 'almuerzo'], 'disponibilidad': True, 'cupon': None}, page_content='Hamburguesa Clásica: Pan artesanal, carne de res, lechuga, tomate, cebolla y aderezo especial. Precio: $8.5'), Document(metadata={'nombre': 'Combo Familiar', 'precio': 18.0, 'categoria': 'combo', 'tags': ['combo', 'familiar', 'ahorro'], 'disponibilidad': True, 'cupon': 'FAMILIA20'}, page_content='Combo Familiar: 2 hamburguesas, 2 refrescos, papas grandes y 1 postre. Precio: $18.0'), Document(metadata={'nombre': 'Pizza Margarita', 'precio': 9.0, 'categoria': 'plato principal', 'tags': ['vegetariano'], 'disponibilidad': True, 'cupon': None}, page_content='Pizza Margarita: Pizza con base de tomate, mozzarella fresca y albahaca. Precio: $9.0'), Document(metadata={'nombre': 'Ensalada Vegana', 'precio': 7.0, 'categoria': 'plato principal', 'tags': ['vegano', 'sin gluten', 'saludable'], 'disponibilidad': True, 'cupon': None}, page_content='Ensalada Vegana: Mezcla de hojas verdes, quinoa, garbanzos, tomate cherry, aguacate y vinagreta de limón. Precio: $7.0')]\n",
            "==================================\u001b[1m Ai Message \u001b[0m==================================\n",
            "Tool Calls:\n",
            "  aplicar_cupon (call_x0bnvhezV0uOqKBOqMiT78dq)\n",
            " Call ID: call_x0bnvhezV0uOqKBOqMiT78dq\n",
            "  Args:\n",
            "    nombre_cupon: BEBIDA10\n",
            "    total: 26.5\n",
            "=================================\u001b[1m Tool Message \u001b[0m=================================\n",
            "Name: aplicar_cupon\n",
            "\n",
            "✅ Cupón aplicado. Descuento del 10%. Total final: $23.85\n",
            "==================================\u001b[1m Ai Message \u001b[0m==================================\n",
            "\n",
            "El total por comprar un Combo Familiar ($18.00) y una Hamburguesa Clásica ($8.50) es de $26.50. Aplicando el cupón BEBIDA10 (10% de descuento), el monto final a pagar es de $23.85.\n",
            "\n",
            "¿Te gustaría finalizar tu pedido?\n"
          ]
        }
      ]
    },
    {
      "cell_type": "markdown",
      "source": [
        "# Configuración de memoria:"
      ],
      "metadata": {
        "id": "ifgUcbZHTQiK"
      }
    },
    {
      "cell_type": "code",
      "source": [
        "%pip install -qU langchain langchain_openai langchain-core langgraph langchain-community psycopg[binary,pool]==3.2.6 langgraph-checkpoint-postgres langchain-elasticsearch\n"
      ],
      "metadata": {
        "colab": {
          "base_uri": "https://localhost:8080/"
        },
        "id": "dMRjY4biIzC2",
        "outputId": "ddaf5e3f-7390-44c7-a6d3-07a8ca6e87e3"
      },
      "execution_count": 68,
      "outputs": [
        {
          "output_type": "stream",
          "name": "stdout",
          "text": [
            "\u001b[?25l   \u001b[90m━━━━━━━━━━━━━━━━━━━━━━━━━━━━━━━━━━━━━━━━\u001b[0m \u001b[32m0.0/199.1 kB\u001b[0m \u001b[31m?\u001b[0m eta \u001b[36m-:--:--\u001b[0m\r\u001b[2K   \u001b[90m━━━━━━━━━━━━━━━━━━━━━━━━━━━━━━━━━━━━━━━━\u001b[0m \u001b[32m199.1/199.1 kB\u001b[0m \u001b[31m8.2 MB/s\u001b[0m eta \u001b[36m0:00:00\u001b[0m\n",
            "\u001b[2K   \u001b[90m━━━━━━━━━━━━━━━━━━━━━━━━━━━━━━━━━━━━━━━━\u001b[0m \u001b[32m4.3/4.3 MB\u001b[0m \u001b[31m67.7 MB/s\u001b[0m eta \u001b[36m0:00:00\u001b[0m\n",
            "\u001b[2K   \u001b[90m━━━━━━━━━━━━━━━━━━━━━━━━━━━━━━━━━━━━━━━━\u001b[0m \u001b[32m40.3/40.3 kB\u001b[0m \u001b[31m2.8 MB/s\u001b[0m eta \u001b[36m0:00:00\u001b[0m\n",
            "\u001b[?25h"
          ]
        }
      ]
    },
    {
      "cell_type": "code",
      "source": [
        "from langchain_core.prompts import ChatPromptTemplate\n",
        "\n",
        "#Variables de memoria\n",
        "connection_kwargs = {\n",
        "    \"autocommit\": True,\n",
        "    \"prepare_threshold\": 0,\n",
        "}\n",
        "# Inicializamos la memoria\n",
        "with ConnectionPool(\n",
        "    # Example configuration\n",
        "    conninfo='',\n",
        "    max_size=20,\n",
        "    kwargs=connection_kwargs,\n",
        ") as pool:\n",
        "    checkpointer = PostgresSaver(pool)\n",
        "\n",
        "    # Inicializamos el modelo sde recomienda el 4.1\n",
        "    model = ChatOpenAI(model=\"gpt-4.1-2025-04-14\")\n",
        "\n",
        "    # Agrupamos las herramientas\n",
        "    tolkit = [tool_rag]\n",
        "\n",
        "    prompt = ChatPromptTemplate.from_messages(\n",
        "        [\n",
        "            (\"system\",\n",
        "            \"\"\"\n",
        "            Eres un asistente virtual amigable y accesible especializado en guiar a personas con discapacidad visual a través del menú de un restaurante.\n",
        "            Utiliza únicamente las herramientas disponibles para responder: consulta de menú (RAG), verificación de stock, aplicación de cupones y recomendación de platos similares. Si no cuentas con una herramienta específica para responder una pregunta, indícalo de forma clara y sugiere cómo podrías ayudar.\n",
        "            Tu objetivo es que el cliente se sienta acompañado, informado y en control de su pedido. Sé breve, claro, cálido y evita tecnicismos innecesarios. Eres paciente, empático y actúas como un asistente personal que lo guía en todo momento.\n",
        "            Sigue esta guía de conversación:\n",
        "            1. **Saludo y apertura:**\n",
        "            Da una bienvenida cordial. Pregunta si el cliente ya tiene en mente algún plato o si quiere que le leas opciones del menú por categoría (ej. entradas, principales, postres, vegetarianos, etc.).\n",
        "            2. **Consulta del menú:*\n",
        "            Usa la herramienta de menú para brindar información precisa. Describe brevemente cada plato mencionado: nombre, ingredientes principales, precio, y si forma parte de algún combo. Si el cliente tiene preferencias (ej. sin carne, sin lactosa), sugiere opciones que se alineen.\n",
        "            3. **Verificación de disponibilidad:**\n",
        "            Antes de confirmar un pedido, verifica si los platos solicitados están disponibles en stock. Si algo no está disponible, sugiere una alternativa similar usando la herramienta de recomendación.\n",
        "            4. **Aplicación de cupones o promociones:**\n",
        "            Si el cliente menciona un cupón o desea saber si hay promociones, usa la herramienta para aplicar descuentos o combos y muestra el precio actualizado.\n",
        "            5. **Resumen del pedido:**\n",
        "            Repite lo que ha seleccionado el cliente con los precios individuales y el total final. Pregunta si desea añadir algo más antes de cerrar el pedido.\n",
        "            6. **Cierre de atención:**\n",
        "            Agradece su tiempo y disponibilidad. Indícale cómo puede proceder para finalizar el pedido (ej. llamar al restaurante, pagar presencialmente o pedir ayuda en el local). Si el cliente necesita ayuda adicional, ofrécesela de inmediato.\n",
        "            7. **Estilo de comunicación:**\n",
        "            Sé cercano, conversacional y directo. Mantén frases cortas y claras. Si el cliente no entiende algo o parece confundido, repite o simplifica tu respuesta. Tu prioridad es la comodidad y accesibilidad del cliente.\n",
        "\n",
        "            \"\"\"),\n",
        "        (\"human\", \"{messages}\"),\n",
        "        ]\n",
        "    )\n",
        "    #inicializamos el agente\n",
        "    agent_executor = create_react_agent(model, tolkit, checkpointer=checkpointer, prompt=prompt)\n",
        "\n",
        "\n",
        "    config = {\"configurable\": {\"thread_id\": \"mc0001\"}} ## el thread_id es el identificador de memoria\n",
        "    for step in agent_executor.stream(\n",
        "        {\"messages\": [HumanMessage(content=\"Aplica el cupón que dices\")]},\n",
        "        config,\n",
        "        stream_mode=\"values\",\n",
        "    ):\n",
        "      step[\"messages\"][-1].pretty_print()"
      ],
      "metadata": {
        "colab": {
          "base_uri": "https://localhost:8080/"
        },
        "id": "m-B4V_yLHJhh",
        "outputId": "7ca3b41e-a99e-4590-dd7a-3bae20f3d7dd"
      },
      "execution_count": 85,
      "outputs": [
        {
          "output_type": "stream",
          "name": "stdout",
          "text": [
            "================================\u001b[1m Human Message \u001b[0m=================================\n",
            "\n",
            "Aplica el cupón que dices\n",
            "==================================\u001b[1m Ai Message \u001b[0m==================================\n",
            "\n",
            "¡Excelente elección! 👏 El cupón FAMILIA20 aplica para el Combo Familiar y te da un descuento especial.\n",
            "\n",
            "Aquí te resumo tu pedido actualizado:\n",
            "\n",
            "- Combo Familiar: S/18 (con cupón FAMILIA20, ¡tendrá descuento!)\n",
            "- Hamburguesa Clásica: S/8.5\n",
            "\n",
            "Aplicando el cupón FAMILIA20, el Combo Familiar tendría un precio menor (te avisaré el monto exacto apenas se procese). El total será un poco menos de S/26.5 gracias al descuento.\n",
            "\n",
            "¿Te gustaría recoger en tienda o prefieres envío a domicilio? Recuerda, si tu compra supera los S/50 el envío es gratis, si no, el costo es S/20. ¿Te gustaría agregar algo más para acercarte al envío gratis o quieres finalizar así tu pedido?\n"
          ]
        }
      ]
    },
    {
      "cell_type": "markdown",
      "source": [
        "# Prueba pre Docker:"
      ],
      "metadata": {
        "id": "r_JxoTR-oxxh"
      }
    },
    {
      "cell_type": "code",
      "source": [
        "from langchain_openai import ChatOpenAI\n",
        "import os\n",
        "from flask import Flask, jsonify, request\n",
        "from langchain_community.utilities.sql_database import SQLDatabase\n",
        "from langchain_core.prompts import ChatPromptTemplate\n",
        "from langchain_core.runnables import RunnablePassthrough\n",
        "from langchain_core.output_parsers import StrOutputParser\n",
        "from langchain_core.messages import HumanMessage\n",
        "from langchain_openai import OpenAIEmbeddings\n",
        "from langchain_elasticsearch import ElasticsearchStore\n",
        "from psycopg_pool import ConnectionPool\n",
        "from langgraph.checkpoint.postgres import PostgresSaver\n",
        "from langgraph.prebuilt import create_react_agent\n",
        "\n",
        "\n",
        "## datos de trazabilidad\n",
        "os.environ[\"LANGSMITH_ENDPOINT\"]=\"https://api.smith.langchain.com\"\n",
        "os.environ[\"LANGCHAIN_API_KEY\"] = \"\"\n",
        "os.environ[\"LANGCHAIN_TRACING_V2\"] = \"true\"\n",
        "os.environ[\"LANGCHAIN_PROJECT\"] = \"gcpaiagent\"\n",
        "os.environ[\"OPENAI_API_KEY\"] =\"sk\"\n",
        "\n",
        "\n",
        "id_agente = 'idagente'\n",
        "#datos de configuracion\n",
        "DB_URI = os.environ.get(\n",
        "    \"DB_URI\",\n",
        "    \"postgres://\"\n",
        ")\n",
        "connection_kwargs = {\n",
        "    \"autocommit\": True,\n",
        "    \"prepare_threshold\": 0,\n",
        "}\n",
        "db_query = ElasticsearchStore(\n",
        "    es_url=\"\",\n",
        "    es_user=\"elastic\",\n",
        "    es_password=\"\",\n",
        "    index_name=\"menu-data\",\n",
        "    embedding=OpenAIEmbeddings(model=\"text-embedding-3-large\"))\n",
        "\n",
        "# Herramienta RAG\n",
        "retriever = db_query.as_retriever()\n",
        "tool_rag =retriever.as_tool(\n",
        "name =\"datos_menu\",\n",
        "description=\"Herramienta que tiene la información detallada (nombre, descripcion, precio, ingredientes, disponibilidad y categoria) de todos los productosdel menú\"\n",
        ")\n",
        "\n",
        "stock_actual = {\n",
        "\"Hamburguesa Clásica\": 4,\n",
        "\"Tacos al Pastor\": 0,\n",
        "\"Ensalada Vegana\": 10,\n",
        "\"Pizza Margarita\": 2,\n",
        "\"Smoothie de Frutas\": 0,\n",
        "}\n",
        "\n",
        "cupones_validos = {\n",
        "\"FAMILIA20\": 0.20,\n",
        "\"BEBIDA10\": 0.10,\n",
        "\"VEGANO15\": 0.15,\n",
        "}\n",
        "\n",
        "from langchain.agents import tool\n",
        "\n",
        "@tool\n",
        "def verificar_stock(nombre_plato: str) -> str:\n",
        "    \"\"\"\n",
        "    Verifica la si un plato está disponible en el menú y la cantidad disponible del plato.\n",
        "    \"\"\"\n",
        "    nombre_plato = nombre_plato.strip()\n",
        "    if nombre_plato in stock_actual:\n",
        "        cantidad = stock_actual[nombre_plato]\n",
        "        if cantidad > 0:\n",
        "            return f\"✅ El plato '{nombre_plato}' está disponible. Quedan {cantidad} unidades.\"\n",
        "        else:\n",
        "            return f\"❌ Lo siento, el plato '{nombre_plato}' no está disponible actualmente.\"\n",
        "    else:\n",
        "        return f\"🤔 No encontré el plato '{nombre_plato}' en el inventario.\"\n",
        "\n",
        "@tool\n",
        "def aplicar_cupon(nombre_cupon: str, total: float) -> str:\n",
        "    \"\"\"\n",
        "    Aplica un cupón de descuento al total si es válido.\n",
        "    \"\"\"\n",
        "    nombre_cupon = nombre_cupon.strip().upper()\n",
        "    if nombre_cupon in cupones_validos:\n",
        "        descuento = cupones_validos[nombre_cupon]\n",
        "        nuevo_total = round(total * (1 - descuento), 2)\n",
        "        return f\"✅ Cupón aplicado. Descuento del {int(descuento*100)}%. Total final: ${nuevo_total}\"\n",
        "    else:\n",
        "        return f\"❌ El cupón '{nombre_cupon}' no es válido.\"\n",
        "\n",
        "\n",
        "@tool\n",
        "def notificar_camarero(motivo: str = \"Asistencia general\") -> str:\n",
        "    \"\"\"\n",
        "    Tool para notificar al camarero que el cliente necesita asistencia.\n",
        "    Puede indicar el motivo: dificultad visual, confusión, asistencia para ordenar, etc.\n",
        "    \"\"\"\n",
        "    import datetime\n",
        "    import requests\n",
        "\n",
        "    hora = datetime.datetime.now().strftime(\"%Y-%m-%d %H:%M:%S\")\n",
        "    payload = {\n",
        "        \"motivo\": motivo,\n",
        "        \"hora\": hora,\n",
        "        \"estado\": \"pendiente\"\n",
        "    }\n",
        "\n",
        "    # Reemplaza con tu URL de webhook.site\n",
        "    webhook_url = \"\thttps://webhook.site/64914f9d-304a-4ac9-bb0a-6ce251d91f61\"\n",
        "\n",
        "    try:\n",
        "        requests.post(webhook_url, json=payload)\n",
        "        return f\"✅ Notificación enviada al camarero. Motivo: '{motivo}' a las {hora}.\"\n",
        "    except:\n",
        "        return \"⚠️ No se pudo enviar la notificación. Inténtalo de nuevo.\"\n",
        "\n",
        "\n",
        "# Inicializamos la memoria\n",
        "with ConnectionPool(\n",
        "        # Example configuration\n",
        "        conninfo=DB_URI,\n",
        "        max_size=20,\n",
        "        kwargs=connection_kwargs,\n",
        ") as pool:\n",
        "    checkpointer = PostgresSaver(pool)\n",
        "\n",
        "    # Inicializamos el modelo\n",
        "    model = ChatOpenAI(model=\"gpt-4.1-2025-04-14\")\n",
        "\n",
        "    # Agrupamos las herramientas\n",
        "    tolkit = [tool_rag, verificar_stock, aplicar_cupon, notificar_camarero]\n",
        "\n",
        "    prompt = ChatPromptTemplate.from_messages(\n",
        "        [\n",
        "            (\"system\",\n",
        "              \"\"\"\n",
        "            Eres un asistente virtual amigable y accesible especializado en guiar a personas con discapacidad visual a través del menú de un restaurante.\n",
        "            Utiliza únicamente las herramientas disponibles para responder: consulta de menú (RAG), verificación de stock, aplicación de cupones y recomendación de platos similares. Si no cuentas con una herramienta específica para responder una pregunta, indícalo de forma clara y sugiere cómo podrías ayudar.\n",
        "            Tu objetivo es que el cliente se sienta acompañado, informado y en control de su pedido. Sé breve, claro, cálido y evita tecnicismos innecesarios. Eres paciente, empático y actúas como un asistente personal que lo guía en todo momento.\n",
        "            Sigue esta guía de conversación:\n",
        "            1. **Saludo y apertura:**\n",
        "            Da una bienvenida cordial. Pregunta si el cliente ya tiene en mente algún plato o si quiere que le leas opciones del menú por categoría (ej. entradas, principales, postres, vegetarianos, etc.).\n",
        "            2. **Consulta del menú:*\n",
        "            Usa la herramienta de menú para brindar información precisa. Describe brevemente cada plato mencionado: nombre, ingredientes principales, precio, y si forma parte de algún combo. Si el cliente tiene preferencias (ej. sin carne, sin lactosa), sugiere opciones que se alineen.\n",
        "            3. **Verificación de disponibilidad:**\n",
        "            Antes de confirmar un pedido, verifica si los platos solicitados están disponibles en stock. Si algo no está disponible, sugiere una alternativa similar usando la herramienta de recomendación.\n",
        "            4. **Aplicación de cupones o promociones:**\n",
        "            Si el cliente menciona un cupón o desea saber si hay promociones, usa la herramienta para aplicar descuentos o combos y muestra el precio actualizado.\n",
        "            5. **Resumen del pedido:**\n",
        "            Repite lo que ha seleccionado el cliente con los precios individuales y el total final. Pregunta si desea añadir algo más antes de cerrar el pedido.\n",
        "            6. **Cierre de atención:**\n",
        "            Agradece su tiempo y disponibilidad. Indícale cómo puede proceder para finalizar el pedido (ej. llamar al restaurante, pagar presencialmente o pedir ayuda en el local). Si el cliente necesita ayuda adicional, ofrécesela de inmediato.\n",
        "            7. **Estilo de comunicación:**\n",
        "            Sé cercano, conversacional y directo. Mantén frases cortas y claras. Si el cliente no entiende algo o parece confundido, repite o simplifica tu respuesta. Tu prioridad es la comodidad y accesibilidad del cliente.\n",
        "\n",
        "              \"\"\"),\n",
        "            (\"human\", \"{messages}\"),\n",
        "        ]\n",
        "    )\n",
        "    # inicializamos el agente\n",
        "    agent_executor = create_react_agent(model, tolkit, checkpointer=checkpointer, prompt=prompt)\n",
        "    # ejecutamos el agente\n",
        "    config = {\"configurable\": {\"thread_id\": id_agente}}\n",
        "    response = agent_executor.invoke({\"messages\": [HumanMessage(content=\"Hola no entiendo el menú puede venir alguien a ayudarme?\")]}, config=config)\n",
        "    response['messages'][-1].pretty_print()\n"
      ],
      "metadata": {
        "colab": {
          "base_uri": "https://localhost:8080/"
        },
        "id": "66PMWwMsoyqw",
        "outputId": "3cdcb963-48b0-4063-af06-6d4b0ede0f0f"
      },
      "execution_count": 110,
      "outputs": [
        {
          "output_type": "stream",
          "name": "stdout",
          "text": [
            "==================================\u001b[1m Ai Message \u001b[0m==================================\n",
            "\n",
            "¡Gracias por decírmelo! Ya he notificado a un camarero para que venga a ayudarte personalmente. Pronto llegará a tu mesa para asistirte y explicarte el menú en persona.\n",
            "\n",
            "Si necesitas que te siga acompañando o te ayude con otra consulta mientras esperas, sólo dímelo. Estoy aquí para apoyarte en lo que necesites.\n"
          ]
        }
      ]
    },
    {
      "cell_type": "markdown",
      "source": [
        "CONVERSIÓN DE VOZ A TEXTO:"
      ],
      "metadata": {
        "id": "mtQWriGjw0mh"
      }
    },
    {
      "cell_type": "code",
      "source": [
        "client = OpenAI(api_key=\"\")\n",
        "\n",
        "# Abrimos el audio generado\n",
        "audio_file = open(\"Consulta.mp3\", \"rb\")\n",
        "\n",
        "# Hacemos una transcripción del audio:\n",
        "msg = client.audio.transcriptions.create(model=\"whisper-1\", file=audio_file)\n",
        "\n",
        "# msg => Que platos hay disponibles para hoy?\n",
        "\n",
        "# inicializamos el agente\n",
        "agent_executor = create_react_agent(model, tolkit, checkpointer=checkpointer, prompt=prompt)\n",
        "\n",
        "# ejecutamos el agente\n",
        "config = {\"configurable\": {\"thread_id\": id_agente}}\n",
        "response = agent_executor.invoke({\"messages\": [HumanMessage(content=msg)]}, config=config)\n",
        "response['messages'][-1].pretty_print()"
      ],
      "metadata": {
        "colab": {
          "base_uri": "https://localhost:8080/"
        },
        "id": "owvxvUc1o_-J",
        "outputId": "ae1ed5f1-7a2a-43fd-aeb2-9c163b9296f6"
      },
      "execution_count": 107,
      "outputs": [
        {
          "output_type": "stream",
          "name": "stdout",
          "text": [
            "==================================\u001b[1m Ai Message \u001b[0m==================================\n",
            "\n",
            "Estos son algunos de los platos disponibles hoy:\n",
            "\n",
            "- Hamburguesa Clásica: Pan artesanal, carne de res, lechuga, tomate, cebolla y aderezo especial. Precio: 8,50 dólares.\n",
            "- Combo Familiar: Incluye 2 hamburguesas, 2 refrescos, papas grandes y 1 postre. Precio: 18 dólares. Este combo tiene cupón de descuento llamado FAMILIA20.\n",
            "- Pizza Margarita: Base de tomate, mozzarella fresca y albahaca. Plato vegetariano. Precio: 9 dólares.\n",
            "- Ensalada Vegana: Hojas verdes, quinoa, garbanzos, tomate cherry, aguacate y vinagreta de limón. Es vegana y sin gluten. Precio: 7 dólares.\n",
            "\n",
            "¿Te gustaría saber más detalles sobre alguno de estos platos, o prefieres que busque otras opciones (como entradas, postres o bebidas)? ¡Cuéntame cómo prefieres seguir!\n"
          ]
        }
      ]
    },
    {
      "cell_type": "markdown",
      "source": [
        "# Texto a voz"
      ],
      "metadata": {
        "id": "RU-S7JxQUoJJ"
      }
    },
    {
      "cell_type": "code",
      "source": [
        "import pyttsx3\n",
        "\n",
        "# Inicializar el motor de texto a voz\n",
        "engine = pyttsx3.init()\n",
        "\n",
        "# Configuración opcional (puedes cambiar el volumen y la velocidad)\n",
        "engine.setProperty('rate', 150)  # Velocidad del habla (normalmente entre 100-200)\n",
        "engine.setProperty('volume', 1)  # Volumen (0.0 a 1.0)\n",
        "\n",
        "# Texto a convertir a voz\n",
        "texto = response['messages'][-1].pretty_print()\n",
        "\n",
        "# Hacer que el motor lea el texto\n",
        "engine.say(texto)\n",
        "\n",
        "# Esperar a que termine de hablar\n",
        "engine.runAndWait()"
      ],
      "metadata": {
        "id": "tMTND3jrUqZg"
      },
      "execution_count": null,
      "outputs": []
    }
  ]
}